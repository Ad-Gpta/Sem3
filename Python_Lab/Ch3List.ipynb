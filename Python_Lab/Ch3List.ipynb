{
 "cells": [
  {
   "cell_type": "markdown",
   "metadata": {},
   "source": [
    "Lists"
   ]
  },
  {
   "cell_type": "markdown",
   "metadata": {},
   "source": [
    "Creating Lists"
   ]
  },
  {
   "cell_type": "code",
   "execution_count": 2,
   "metadata": {},
   "outputs": [
    {
     "name": "stdout",
     "output_type": "stream",
     "text": [
      "[1, 24, 76]\n",
      "['red', 'yellow', 'blue']\n",
      "['red', 24, 98.6]\n",
      "[1, [5, 6], 7]\n",
      "[]\n"
     ]
    }
   ],
   "source": [
    "# Create List\n",
    "List1 = [1, 24, 76]\n",
    "print (List1)\n",
    "colors=['red', 'yellow', 'blue']\n",
    "print (colors)\n",
    "mix=['red', 24, 98.6]\n",
    "print (mix)\n",
    "nested= [ 1, [5, 6], 7]\n",
    "print (nested)\n",
    "print ([])"
   ]
  },
  {
   "cell_type": "markdown",
   "metadata": {},
   "source": [
    "Accessing Values in List"
   ]
  },
  {
   "cell_type": "code",
   "execution_count": 3,
   "metadata": {},
   "outputs": [
    {
     "name": "stdout",
     "output_type": "stream",
     "text": [
      "2017\n",
      "[[4, 5]]\n",
      "[3.7, '330']\n",
      "3.7\n"
     ]
    }
   ],
   "source": [
    "list1 = ['Egypt', 'chemistry', 2017, 2018]\n",
    "list2 = [1, 2, 3, [4, 5] ]\n",
    "list3 = [\"a\", 3.7, '330', \"B\"]\n",
    "print (list1[2])\n",
    "print (list2 [3:])\n",
    "print (list3 [-3:-1])\n",
    "print (list3[-3])"
   ]
  },
  {
   "cell_type": "markdown",
   "metadata": {},
   "source": [
    "Adding and Updating List Elements"
   ]
  },
  {
   "cell_type": "code",
   "execution_count": 13,
   "metadata": {
    "scrolled": true
   },
   "outputs": [
    {
     "name": "stdout",
     "output_type": "stream",
     "text": [
      "[65, 85, 92, 50, 77]\n",
      "[70, 45, 92, 50, 77, 88, 93]\n"
     ]
    }
   ],
   "source": [
    "courses=[\"OOP\",\"Networking\",\"MIS\",\"Project\"]\n",
    "students=[\"A\", \"C\", \"D\", \"E\", \"F\"] \n",
    "OOP_marks = [65, 85, 92]\n",
    "\n",
    "OOP_marks.append(50) # Add new element\n",
    "OOP_marks.append(77) # Add new element\n",
    "print (OOP_marks[ : ]) # Print list before updating\n",
    "OOP_marks[0]=70 # update new element\n",
    "OOP_marks[1]=45 # update new element\n",
    "list1 = [88, 93]\n",
    "OOP_marks.extend(list1) # extend list with another list \n",
    "print(OOP_marks[ : ]) # Print list after updating"
   ]
  },
  {
   "cell_type": "markdown",
   "metadata": {},
   "source": [
    "Deleting List Elements"
   ]
  },
  {
   "cell_type": "code",
   "execution_count": 5,
   "metadata": {},
   "outputs": [
    {
     "name": "stdout",
     "output_type": "stream",
     "text": [
      "[70, 45, 92, 50, 77, 45]\n",
      "[45, 92, 50, 77, 45]\n",
      "[92, 50, 77, 45]\n",
      "[92, 50, 45]\n"
     ]
    }
   ],
   "source": [
    " OOP_marks = [70, 45, 92, 50, 77, 45]\n",
    "print (OOP_marks)\n",
    "del OOP_marks[0] # delete an element using del\n",
    "print (OOP_marks)\n",
    "OOP_marks.remove (45) # remove an element using remove() method\n",
    "print (OOP_marks)\n",
    "OOP_marks.pop (2) # remove an element using pop()method\n",
    "print (OOP_marks)"
   ]
  },
  {
   "cell_type": "markdown",
   "metadata": {},
   "source": [
    "Basic List Operations"
   ]
  },
  {
   "cell_type": "code",
   "execution_count": 1,
   "metadata": {},
   "outputs": [
    {
     "name": "stdout",
     "output_type": "stream",
     "text": [
      "3\n",
      "[3, 4, 1, 'B', 5, 6]\n",
      "['Eg!', 'Eg!', 'Eg!', 'Eg!']\n",
      "True\n",
      "1 2 3 "
     ]
    }
   ],
   "source": [
    "print (len([5, \"B\", 3])) # find the list ength.\n",
    "print ([3, 4, 1] + [\"B\", 5, 6]) # concatenate lists.\n",
    "print (['Eg!'] * 4) # repeat an element in a list.\n",
    "print (3 in [1, 2, 3]) # check if element in a list\n",
    "for x in [1, 2, 3]:\n",
    "    print (x, end=' ') # traverse list elements"
   ]
  },
  {
   "cell_type": "markdown",
   "metadata": {},
   "source": [
    "Indexing and Slicing"
   ]
  },
  {
   "cell_type": "code",
   "execution_count": 7,
   "metadata": {},
   "outputs": [
    {
     "name": "stdout",
     "output_type": "stream",
     "text": [
      "2017\n",
      "[[4, 5]]\n",
      "[3.7, '330']\n",
      "3.7\n"
     ]
    }
   ],
   "source": [
    "list1 = ['Egypt', 'chemistry', 2017, 2018]\n",
    "list2 = [1, 2, 3, [4, 5]]\n",
    "list3 = [\"a\", 3.7, '330', \"B\"]\n",
    "print (list1[2])\n",
    "print (list2 [3:])\n",
    "print (list3 [-3:-1])\n",
    "print (list3[-3])"
   ]
  },
  {
   "cell_type": "code",
   "execution_count": null,
   "metadata": {},
   "outputs": [],
   "source": [
    "Built-in Functions and Methods"
   ]
  },
  {
   "cell_type": "code",
   "execution_count": 14,
   "metadata": {},
   "outputs": [
    {
     "name": "stdout",
     "output_type": "stream",
     "text": [
      "[3, 41, 12, 9, 74, 15]\n",
      "6\n",
      "74\n",
      "3\n",
      "154\n",
      "25.666666666666668\n"
     ]
    }
   ],
   "source": [
    "#Built-in Functions and Lists\n",
    "tickets = [3, 41, 12, 9, 74, 15]\n",
    "print (tickets)\n",
    "print (len(tickets))\n",
    "print (max(tickets))\n",
    "print (min(tickets))\n",
    "print (sum(tickets))\n",
    "print (sum(tickets)/len(tickets))"
   ]
  },
  {
   "cell_type": "code",
   "execution_count": 17,
   "metadata": {},
   "outputs": [
    {
     "name": "stdout",
     "output_type": "stream",
     "text": [
      "[41, 12, 9, 74, 3, 15]\n",
      "[3, 9, 12, 15, 41, 74]\n",
      "\n",
      "Sorted list elements \n",
      "3\n",
      "9\n",
      "12\n",
      "15\n",
      "41\n",
      "74\n"
     ]
    }
   ],
   "source": [
    "#List sorting and Traversing\n",
    "seq=(41, 12, 9, 74, 3, 15) # use sequence for creating a list\n",
    "tickets=list(seq)\n",
    "print (tickets)\n",
    "tickets.sort()\n",
    "print (tickets)\n",
    "print (\"\\nSorted list elements \")\n",
    "for ticket in tickets:\n",
    "    print (ticket)"
   ]
  },
  {
   "cell_type": "code",
   "execution_count": 1,
   "metadata": {},
   "outputs": [
    {
     "name": "stdout",
     "output_type": "stream",
     "text": [
      "['E', 'g', 'y', 'p', 't']\n",
      "['Welcome', 'to', 'Egypt']\n",
      "['Welcome', 'to', 'Egypt']\n"
     ]
    }
   ],
   "source": [
    "# convert string to a list of characters or words\n",
    "Word = 'Egypt'\n",
    "List1 = list(Word)\n",
    "print (List1)\n",
    "# use the delimiter\n",
    "Greeting= 'Welcome-to-Egypt'\n",
    "List2 =Greeting.split(\"-\")\n",
    "print (List2)\n",
    "Greeting= 'Welcome-to-Egypt'\n",
    "delimiter='-'\n",
    "List2 =Greeting.split(delimiter)\n",
    "print (List2) "
   ]
  },
  {
   "cell_type": "code",
   "execution_count": 10,
   "metadata": {},
   "outputs": [
    {
     "name": "stdout",
     "output_type": "stream",
     "text": [
      "['Welcome', 'to', 'Egypt']\n",
      "Egypt\n"
     ]
    }
   ],
   "source": [
    "# we can break a string into words using the split method\n",
    "Greeting= 'Welcome to Egypt'\n",
    "List2 =Greeting.split()\n",
    "print (List2)\n",
    "print (List2[2])"
   ]
  },
  {
   "cell_type": "code",
   "execution_count": 2,
   "metadata": {},
   "outputs": [
    {
     "name": "stdout",
     "output_type": "stream",
     "text": [
      "Welcome to Egypt\n"
     ]
    },
    {
     "data": {
      "text/plain": [
       "'Welcome-to-Egypt'"
      ]
     },
     "execution_count": 2,
     "metadata": {},
     "output_type": "execute_result"
    }
   ],
   "source": [
    "#Using the joing() method\n",
    "List1 = ['Welcome', 'to', 'Egypt']\n",
    "delimiter = ' '\n",
    "dl=delimiter.join(List1)\n",
    "print(dl)\n",
    " \n",
    "List1 = ['Welcome', 'to', 'Egypt']\n",
    "delimiter = '-'\n",
    "delimiter.join(List1)"
   ]
  },
  {
   "cell_type": "code",
   "execution_count": 3,
   "metadata": {},
   "outputs": [
    {
     "ename": "FileNotFoundError",
     "evalue": "[Errno 2] No such file or directory: 'myFile.txt'",
     "output_type": "error",
     "traceback": [
      "\u001b[1;31m---------------------------------------------------------------------------\u001b[0m",
      "\u001b[1;31mFileNotFoundError\u001b[0m                         Traceback (most recent call last)",
      "\u001b[1;32m<ipython-input-3-f8e1e440c82b>\u001b[0m in \u001b[0;36m<module>\u001b[1;34m\u001b[0m\n\u001b[1;32m----> 1\u001b[1;33m \u001b[0mfhand\u001b[0m\u001b[1;33m=\u001b[0m\u001b[0mopen\u001b[0m\u001b[1;33m(\u001b[0m\u001b[1;34m'myFile.txt'\u001b[0m\u001b[1;33m)\u001b[0m\u001b[1;33m\u001b[0m\u001b[1;33m\u001b[0m\u001b[0m\n\u001b[0m\u001b[0;32m      2\u001b[0m \u001b[1;32mfor\u001b[0m \u001b[0mline\u001b[0m \u001b[1;32min\u001b[0m \u001b[0mfhand\u001b[0m\u001b[1;33m:\u001b[0m\u001b[1;33m\u001b[0m\u001b[1;33m\u001b[0m\u001b[0m\n\u001b[0;32m      3\u001b[0m     \u001b[0mline\u001b[0m \u001b[1;33m=\u001b[0m \u001b[0mline\u001b[0m\u001b[1;33m.\u001b[0m\u001b[0mrstrip\u001b[0m\u001b[1;33m(\u001b[0m\u001b[1;33m)\u001b[0m\u001b[1;33m\u001b[0m\u001b[1;33m\u001b[0m\u001b[0m\n\u001b[0;32m      4\u001b[0m     \u001b[0mprint\u001b[0m\u001b[1;33m(\u001b[0m\u001b[0mline\u001b[0m\u001b[1;33m)\u001b[0m\u001b[1;33m\u001b[0m\u001b[1;33m\u001b[0m\u001b[0m\n\u001b[0;32m      5\u001b[0m     \u001b[1;31m#if line.startswith('From'):\u001b[0m\u001b[1;33m\u001b[0m\u001b[1;33m\u001b[0m\u001b[1;33m\u001b[0m\u001b[0m\n",
      "\u001b[1;31mFileNotFoundError\u001b[0m: [Errno 2] No such file or directory: 'myFile.txt'"
     ]
    }
   ],
   "source": [
    "fhand=open('myFile.txt')\n",
    "for line in fhand:\n",
    "    line = line.rstrip()\n",
    "    print(line)\n",
    "    #if line.startswith('From'):\n",
    "    list = line.split()\n",
    "    print(list)\n",
    "        "
   ]
  },
  {
   "cell_type": "code",
   "execution_count": 6,
   "metadata": {},
   "outputs": [
    {
     "name": "stdout",
     "output_type": "stream",
     "text": [
      "[1, 2, 3]\n",
      "[1, 2, 3]\n",
      "[1, 2, 3, 77]\n",
      "[1, 2, 3]\n",
      "False\n",
      "False\n"
     ]
    }
   ],
   "source": [
    "#alias\n",
    "#Without alias\n",
    "a = [1, 2, 3]\n",
    "b = [1, 2, 3]\n",
    "print (a)\n",
    "print (b)\n",
    "a.append(77)\n",
    "print (a)\n",
    "print (b)\n",
    "print(b is a)  \n",
    "print(b in a)"
   ]
  },
  {
   "cell_type": "code",
   "execution_count": 25,
   "metadata": {},
   "outputs": [
    {
     "name": "stdout",
     "output_type": "stream",
     "text": [
      "[1, 2, 3]\n",
      "[1, 2, 3]\n",
      "[1, 2, 3, 77]\n",
      "[1, 2, 3, 77]\n"
     ]
    },
    {
     "data": {
      "text/plain": [
       "True"
      ]
     },
     "execution_count": 25,
     "metadata": {},
     "output_type": "execute_result"
    }
   ],
   "source": [
    "#With alias\n",
    "a = [1, 2, 3]\n",
    "b = a\n",
    "print (a)\n",
    "print (b)\n",
    "a.append(77)\n",
    "print (a)\n",
    "print (b)\n",
    "b is a"
   ]
  }
 ],
 "metadata": {
  "kernelspec": {
   "display_name": "Python 3",
   "language": "python",
   "name": "python3"
  },
  "language_info": {
   "codemirror_mode": {
    "name": "ipython",
    "version": 3
   },
   "file_extension": ".py",
   "mimetype": "text/x-python",
   "name": "python",
   "nbconvert_exporter": "python",
   "pygments_lexer": "ipython3",
   "version": "3.7.4"
  }
 },
 "nbformat": 4,
 "nbformat_minor": 5
}
