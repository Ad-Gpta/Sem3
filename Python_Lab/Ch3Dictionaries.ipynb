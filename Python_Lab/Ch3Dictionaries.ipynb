{
 "cells": [
  {
   "cell_type": "markdown",
   "metadata": {},
   "source": [
    "Creating Dictionaries"
   ]
  },
  {
   "cell_type": "code",
   "execution_count": 1,
   "metadata": {},
   "outputs": [
    {
     "name": "stdout",
     "output_type": "stream",
     "text": [
      "{'Honda': 40000, 'Suzuki': 50000, 'Mercedes': 85000, 'Nissan': 35000, 'Mitsubishi': 43000}\n",
      "{'Omar Ahmed': 30000, 'Ali Ziad': 24000, 'Ossama Hashim': 25000, 'Majid Hatem': 10000}\n"
     ]
    }
   ],
   "source": [
    "Prices = {\"Honda\":40000, \"Suzuki\":50000, \"Mercedes\":85000, \"Nissan\":35000, \"Mitsubishi\": 43000}\n",
    "print (Prices)\n",
    " \n",
    "Staff_Salary = { 'Ohm' : 30000 , 'Alok' :24000,'Amogus': 25000,\n",
    "'Mohan':10000}\n",
    "print(Staff_Salary)\n",
    "\n"
   ]
  },
  {
   "cell_type": "code",
   "execution_count": 1,
   "metadata": {},
   "outputs": [
    {
     "name": "stdout",
     "output_type": "stream",
     "text": [
      "{'Salwa Ahmed': 50, 'Abdullah Mohamed': 80, 'Sultan Ghanim': 90}\n",
      "{}\n",
      "{'Salwa Ahmed': 51, 'Abdullah Mohamed': 81, 'Sultan Ghanim': 91}\n"
     ]
    }
   ],
   "source": [
    "STDMarks={\"Saranya\":50, \"Ananya\":80,\"Saksham\":90}\n",
    "print(STDMarks)\n",
    "STDMarks = dict()\n",
    "print(STDMarks)\n",
    "STDMarks['Saranya']=51\n",
    "STDMarks['Ananya']=81\n",
    "STDMarks['Saksham']=91\n",
    "print (STDMarks)"
   ]
  },
  {
   "cell_type": "markdown",
   "metadata": {},
   "source": [
    "Updating and accessing values in Dictionaries"
   ]
  },
  {
   "cell_type": "code",
   "execution_count": 3,
   "metadata": {},
   "outputs": [
    {
     "name": "stdout",
     "output_type": "stream",
     "text": [
      "{'Salwa Ahmed': 85, 'Abdullah Mohamed': 80, 'Sultan Ghanim': 90, 'Omar Majid': 74}\n"
     ]
    }
   ],
   "source": [
    "STDMarks={ \"Saranya\":50, \"Ananya\":80, \"Saksham\":90}\n",
    "STDMarks['Saranya'] = 85 # update current value of the key 'Saranya'\n",
    "\n",
    "STDMarks['Mahesh'] = 74 # Add a new item to the dictionary\n",
    "print (STDMarks)"
   ]
  },
  {
   "cell_type": "code",
   "execution_count": 4,
   "metadata": {},
   "outputs": [
    {
     "name": "stdout",
     "output_type": "stream",
     "text": [
      "Salary package for Ossama Hashim is 25000\n"
     ]
    }
   ],
   "source": [
    "#Accessing Dictionary Elements\n",
    "Staff_Salary = { 'Ohm': 30000 , 'Alok':24000, 'Amogus': 25000, 'Mohan':10000}\n",
    "print('Salary package for Amogus is ', end=\"\")\n",
    "\n",
    "# access specific dictionary element\n",
    "print(Staff_Salary['Amogus'])\n"
   ]
  },
  {
   "cell_type": "code",
   "execution_count": 5,
   "metadata": {},
   "outputs": [
    {
     "name": "stdout",
     "output_type": "stream",
     "text": [
      "Name \t \t Net Salary\n",
      "Omar Ahmed \t 28500.0\n",
      "Ali Ziad \t 22800.0\n",
      "Ossama Hashim \t 23750.0\n",
      "Majid Hatem \t 9500.0\n"
     ]
    }
   ],
   "source": [
    "# Define a function to return salary after discount tax 5% \n",
    "def Netsalary (salary):\n",
    "    return salary - (salary * 0.05) # also, could be return salary *0.95\n",
    "#Iterate all elements in a dictionary\n",
    "print (\"Name\" , '\\t', '\\t',\"Net Salary\" )\n",
    "for key, value in Staff_Salary.items():\n",
    "    print (key , '\\t', Netsalary(value))"
   ]
  },
  {
   "cell_type": "markdown",
   "metadata": {},
   "source": [
    "Deletig Dictionary Elements"
   ]
  },
  {
   "cell_type": "code",
   "execution_count": 10,
   "metadata": {},
   "outputs": [
    {
     "name": "stdout",
     "output_type": "stream",
     "text": [
      "{'Salwa Ahmed': 50, 'Abdullah Mohamed': 80, 'Sultan Ghanim': 90}\n",
      "{'Salwa Ahmed': 50, 'Sultan Ghanim': 90}\n",
      "{}\n"
     ]
    }
   ],
   "source": [
    "STDMarks={\"Saranya\":50, \"Ananya\":80,\"Saksham\":90}\n",
    "print (STDMarks)\n",
    "del STDMarks['Ananya'] # remove entry with key 'Ananya'\n",
    "print (STDMarks)\n",
    "STDMarks.clear() # remove all entries in STDMarksdictionary\n",
    "print (STDMarks)\n",
    "del STDMarks # delete entire dictionary"
   ]
  },
  {
   "cell_type": "markdown",
   "metadata": {},
   "source": [
    "Dictionary Functions"
   ]
  },
  {
   "cell_type": "code",
   "execution_count": 16,
   "metadata": {},
   "outputs": [],
   "source": [
    "#Implementing Dictionary Functions\n",
    "Staff_Salary = { 'Ohm' : 30000 , 'Alok' : 24000, 'Amogus': 25000, 'Mohan':10000}\n",
    "STDMarks={\"Saranya\":50, \"Ananya\":80, \"Saksham\":90}\n",
    " "
   ]
  },
  {
   "cell_type": "code",
   "execution_count": null,
   "metadata": {},
   "outputs": [],
   "source": [
    "def cmp(a, b):\n",
    " for key, value in a.items():\n",
    "     for key1, value1 in b.items():\n",
    "         return (key >key1) - (key < key1)"
   ]
  },
  {
   "cell_type": "code",
   "execution_count": 3,
   "metadata": {},
   "outputs": [
    {
     "data": {
      "text/plain": [
       "-1"
      ]
     },
     "execution_count": 3,
     "metadata": {},
     "output_type": "execute_result"
    }
   ],
   "source": [
    "False - True"
   ]
  },
  {
   "cell_type": "code",
   "execution_count": 18,
   "metadata": {},
   "outputs": [
    {
     "name": "stdout",
     "output_type": "stream",
     "text": [
      "-1\n",
      "0\n",
      "3\n",
      "{'Salwa Ahmed': 50, 'Abdullah Mohamed': 80, 'Sultan Ghanim': 90}\n",
      "<class 'dict'>\n"
     ]
    }
   ],
   "source": [
    "print (cmp(Staff_Salary,STDMarks) )\n",
    "print (cmp(STDMarks,STDMarks) )\n",
    "print (len(STDMarks) )\n",
    "print (str(STDMarks) )\n",
    "print (type(STDMarks) )"
   ]
  },
  {
   "cell_type": "code",
   "execution_count": 3,
   "metadata": {},
   "outputs": [
    {
     "name": "stdout",
     "output_type": "stream",
     "text": [
      "24000\n",
      "dict_items([('Salwa Ahmed', 50), ('Abdullah Mohamed', 80), ('Sultan Ghanim', 90)])\n",
      "dict_keys(['Omar Ahmed', 'Ali Ziad', 'Ossama Hashim', 'Majid Hatem'])\n",
      "dict_values([30000, 24000, 25000, 10000])\n",
      "\n"
     ]
    }
   ],
   "source": [
    "#Dictionary Methods\n",
    "Staff_Salary = { 'Ohm' : 30000 , 'Alok' :24000,'Amogus': 25000, 'Mohan':10000}\n",
    "STDMarks={ \"Saranya\":50, \"Ananya\":80, \"Saksham\":90}\n",
    "print (Staff_Salary.get('Alok') )\n",
    "print (STDMarks.items())\n",
    "print (Staff_Salary.keys())\n",
    "print (Staff_Salary.values())\n",
    "print()\n"
   ]
  },
  {
   "cell_type": "code",
   "execution_count": 2,
   "metadata": {},
   "outputs": [
    {
     "name": "stdout",
     "output_type": "stream",
     "text": [
      "{'Salwa Ahmed': 50, 'Abdullah Mohamed': 80, 'Sultan Ghanim': 90, 'Ali Ziad': None}\n",
      "None\n",
      "{'Salwa Ahmed': 50, 'Abdullah Mohamed': 80, 'Sultan Ghanim': 90, 'Ali Ziad': 24000, 'Omar Ahmed': 30000, 'Ossama Hashim': 25000, 'Majid Hatem': 10000}\n"
     ]
    }
   ],
   "source": [
    "Staff_Salary = { 'Ohm' : 30000 , 'Alok' :24000,'Amogus': 25000, 'Mohan':10000}\n",
    "STDMarks={ \"Saranya\":50, \"Ananya\":80, \"Saksham\":90}\n",
    "STDMarks.setdefault('Alok')\n",
    "print (STDMarks)\n",
    "print (STDMarks.update(Staff_Salary))\n",
    "print (STDMarks)\n"
   ]
  },
  {
   "cell_type": "markdown",
   "metadata": {},
   "source": [
    "Sorting a Dictionary"
   ]
  },
  {
   "cell_type": "code",
   "execution_count": 3,
   "metadata": {},
   "outputs": [
    {
     "name": "stdout",
     "output_type": "stream",
     "text": [
      "\n",
      "Sorted by key\n",
      "Ali Ziad 24000\n",
      "Majid Hatem 10000\n",
      "Omar Ahmed 30000\n",
      "Ossama Hashim 25000\n"
     ]
    }
   ],
   "source": [
    "Staff_Salary = { 'Ohm' : 30000 , 'Alok' :24000, 'Amogus': 25000, 'Mohan':10000}\n",
    "print (\"\\nSorted by key\")\n",
    "for k in sorted(Staff_Salary):\n",
    "    print (k, Staff_Salary[k]  )"
   ]
  },
  {
   "cell_type": "code",
   "execution_count": 1,
   "metadata": {},
   "outputs": [
    {
     "name": "stdout",
     "output_type": "stream",
     "text": [
      "\n",
      "Sorted by value\n",
      "Ossama Hashim 25000\n",
      "Omar Ahmed 30000\n",
      "Majid Hatem 10000\n",
      "Ali Ziad 24000\n"
     ]
    }
   ],
   "source": [
    "Staff_Salary = { 'Ohm' : 30000 , 'Alok' :24000, 'Amogus': 25000, 'Mohan':10000}\n",
    "print (\"\\nSorted by value\")\n",
    "for w in sorted(Staff_Salary,  reverse=True):\n",
    "    print (w, Staff_Salary[w])"
   ]
  }
 ],
 "metadata": {
  "kernelspec": {
   "display_name": "Python 3",
   "language": "python",
   "name": "python3"
  },
  "language_info": {
   "codemirror_mode": {
    "name": "ipython",
    "version": 3
   },
   "file_extension": ".py",
   "mimetype": "text/x-python",
   "name": "python",
   "nbconvert_exporter": "python",
   "pygments_lexer": "ipython3",
   "version": "3.7.4"
  }
 },
 "nbformat": 4,
 "nbformat_minor": 5
}
