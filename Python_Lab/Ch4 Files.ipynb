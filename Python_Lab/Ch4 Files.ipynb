{
 "cells": [
  {
   "cell_type": "markdown",
   "metadata": {},
   "source": [
    "Input / Output"
   ]
  },
  {
   "cell_type": "code",
   "execution_count": 8,
   "metadata": {},
   "outputs": [
    {
     "name": "stdout",
     "output_type": "stream",
     "text": [
      "Enter your name: Mohan\n"
     ]
    },
    {
     "data": {
      "text/plain": [
       "'Mohan'"
      ]
     },
     "execution_count": 8,
     "metadata": {},
     "output_type": "execute_result"
    }
   ],
   "source": [
    "#Screen Input and Output\n",
    "Name = input (\"Enter your name: \")\n",
    "Name"
   ]
  },
  {
   "cell_type": "code",
   "execution_count": 12,
   "metadata": {},
   "outputs": [
    {
     "name": "stdout",
     "output_type": "stream",
     "text": [
      "Enter your mark: 75\n",
      "Welcome to SLCM Manipal\n",
      "Campus \t Name \t Marks \tGrade\n",
      "MIT \t Mohan \t 75.0 \t B\n"
     ]
    }
   ],
   "source": [
    "Mark = input(\"Enter your mark: \") \n",
    "Mark = float(Mark)\n",
    "print(\"Welcome to SLCM Manipal\")\n",
    "Grade='A'\n",
    "if Mark>90:\n",
    "    Grade='A+'\n",
    "elif Mark>80:\n",
    "    Grade='A'\n",
    "elif Mark>70:\n",
    "    Grade='B'\n",
    "elif Mark>60:\n",
    "    Grade='C'\n",
    "elif Mark>50:\n",
    "     Grade='D'\n",
    "elif Mark>40:\n",
    "    Grade=\"E\"\n",
    "else:\n",
    "    Grade=\"F\"\n",
    "print('Campus','\\t','Name','\\t','Marks','\\t' \"Grade\")\n",
    "print('MIT', \"\\t\",Name,'\\t',Mark,\"\\t\", Grade)"
   ]
  },
  {
   "cell_type": "code",
   "execution_count": null,
   "metadata": {},
   "outputs": [],
   "source": [
    "File Input/Output"
   ]
  },
  {
   "cell_type": "code",
   "execution_count": 1,
   "metadata": {},
   "outputs": [
    {
     "name": "stdout",
     "output_type": "stream",
     "text": [
      "['From:', 'zqian@umich.edu']\n",
      "['From:', 'rjlowe@iupui.edu']\n",
      "['From:', 'cwen@iupui.edu']\n",
      "['From:', 'cwen@iupui.edu']\n",
      "['From:', 'gsilver@umich.edu']\n",
      "['From:', 'gsilver@umich.edu']\n",
      "['From:', 'zqian@umich.edu']\n",
      "['From:', 'gsilver@umich.edu']\n",
      "['From:', 'wagnermr@iupui.edu']\n",
      "['From:', 'zqian@umich.edu']\n",
      "['From:', 'antranig@caret.cam.ac.uk']\n",
      "['From:', 'gopal.ramasammycook@gmail.com']\n",
      "['From:', 'david.horwitz@uct.ac.za']\n",
      "['From:', 'david.horwitz@uct.ac.za']\n",
      "['From:', 'david.horwitz@uct.ac.za']\n",
      "['From:', 'david.horwitz@uct.ac.za']\n",
      "['From:', 'stephen.marquard@uct.ac.za']\n",
      "['From:', 'louis@media.berkeley.edu']\n",
      "['From:', 'louis@media.berkeley.edu']\n",
      "['From:', 'ray@media.berkeley.edu']\n",
      "['From:', 'cwen@iupui.edu']\n",
      "['From:', 'cwen@iupui.edu']\n",
      "['From:', 'cwen@iupui.edu']\n"
     ]
    }
   ],
   "source": [
    "#tokenization\n",
    "fhand = open(\"myfile1.txt\")\n",
    "for line in fhand:\n",
    "     l=line.split()\n",
    "     print(l)\n",
    " "
   ]
  },
  {
   "cell_type": "code",
   "execution_count": 3,
   "metadata": {},
   "outputs": [
    {
     "name": "stdout",
     "output_type": "stream",
     "text": [
      "['From:', 'zqian@umich.edu', 'From:', 'rjlowe@iupui.edu', 'From:', 'cwen@iupui.edu', 'From:', 'cwen@iupui.edu', 'From:', 'gsilver@umich.edu', 'From:', 'gsilver@umich.edu', 'From:', 'zqian@umich.edu', 'From:', 'gsilver@umich.edu', 'From:', 'wagnermr@iupui.edu', 'From:', 'zqian@umich.edu', 'From:', 'antranig@caret.cam.ac.uk', 'From:', 'gopal.ramasammycook@gmail.com', 'From:', 'david.horwitz@uct.ac.za', 'From:', 'david.horwitz@uct.ac.za', 'From:', 'david.horwitz@uct.ac.za', 'From:', 'david.horwitz@uct.ac.za', 'From:', 'stephen.marquard@uct.ac.za', 'From:', 'louis@media.berkeley.edu', 'From:', 'louis@media.berkeley.edu', 'From:', 'ray@media.berkeley.edu', 'From:', 'cwen@iupui.edu', 'From:', 'cwen@iupui.edu', 'From:', 'cwen@iupui.edu']\n",
      "{'From:': 23, 'zqian@umich.edu': 3, 'rjlowe@iupui.edu': 1, 'cwen@iupui.edu': 5, 'gsilver@umich.edu': 3, 'wagnermr@iupui.edu': 1, 'antranig@caret.cam.ac.uk': 1, 'gopal.ramasammycook@gmail.com': 1, 'david.horwitz@uct.ac.za': 4, 'stephen.marquard@uct.ac.za': 1, 'louis@media.berkeley.edu': 2, 'ray@media.berkeley.edu': 1}\n"
     ]
    }
   ],
   "source": [
    "#tokenization\n",
    "fhand = open(\"myfile1.txt\")\n",
    "text = fhand.read()\n",
    "words = text.split()\n",
    "print(words)\n",
    "\n",
    "#Create a dictionary for each word in the file along with its frequency\n",
    "d=dict()\n",
    "for word in words:\n",
    "    if word in d: #if word is not in dict, adds it in else statement\n",
    "        d[word]= d[word]+1\n",
    "    else:\n",
    "        d[word]=1\n",
    "print(d)"
   ]
  },
  {
   "cell_type": "code",
   "execution_count": 4,
   "metadata": {},
   "outputs": [
    {
     "name": "stdout",
     "output_type": "stream",
     "text": [
      "<_io.TextIOWrapper name='myfile1.txt' mode='r' encoding='cp1252'>\n",
      "Name of the file:  myfile1.txt\n",
      "Closed or not :  False\n",
      "Opening mode :  r\n"
     ]
    }
   ],
   "source": [
    "# Open a file and find its attributes\n",
    "Filehndl = open(\"myfile1.txt\", \"r\")\n",
    "print(Filehndl)\n",
    "print (\"Name of the file: \", Filehndl.name)\n",
    "print (\"Closed or not : \", Filehndl.closed)\n",
    "print (\"Opening mode : \", Filehndl.mode)"
   ]
  },
  {
   "cell_type": "code",
   "execution_count": 6,
   "metadata": {},
   "outputs": [
    {
     "name": "stdout",
     "output_type": "stream",
     "text": [
      "Closed or not :  False\n",
      "Closed or not :  True\n"
     ]
    }
   ],
   "source": [
    "#closing Files\n",
    "Filehndl = open(\"myfile1.txt\", \"r\")\n",
    "print (\"Closed or not : \", Filehndl.closed)\n",
    "Filehndl.close()\n",
    "print (\"Closed or not : \", Filehndl.closed)"
   ]
  },
  {
   "cell_type": "code",
   "execution_count": 7,
   "metadata": {},
   "outputs": [],
   "source": [
    "#Writing to a file\n",
    "Filehndl = open(\"myfile1.txt\", \"w+\")\n",
    "Filehndl.write( \"Python Processing Files\\nMay 2022!!\\n\")\n",
    "# Close opend file\n",
    "Filehndl.close()"
   ]
  },
  {
   "cell_type": "code",
   "execution_count": 9,
   "metadata": {},
   "outputs": [
    {
     "ename": "PermissionError",
     "evalue": "[WinError 32] The process cannot access the file because it is being used by another process: 'myfile1.txt' -> 'myfile1.txt'",
     "output_type": "error",
     "traceback": [
      "\u001b[1;31m---------------------------------------------------------------------------\u001b[0m",
      "\u001b[1;31mPermissionError\u001b[0m                           Traceback (most recent call last)",
      "\u001b[1;32m<ipython-input-9-ce0f00b1504a>\u001b[0m in \u001b[0;36m<module>\u001b[1;34m\u001b[0m\n\u001b[0;32m      1\u001b[0m \u001b[1;31m#rename() a file\u001b[0m\u001b[1;33m\u001b[0m\u001b[1;33m\u001b[0m\u001b[1;33m\u001b[0m\u001b[0m\n\u001b[0;32m      2\u001b[0m \u001b[1;32mimport\u001b[0m \u001b[0mos\u001b[0m\u001b[1;33m\u001b[0m\u001b[1;33m\u001b[0m\u001b[0m\n\u001b[1;32m----> 3\u001b[1;33m \u001b[0mos\u001b[0m\u001b[1;33m.\u001b[0m\u001b[0mrename\u001b[0m\u001b[1;33m(\u001b[0m \u001b[1;34m\"myfile1.txt\"\u001b[0m\u001b[1;33m,\u001b[0m \u001b[1;34m\"myfile1.txt\"\u001b[0m \u001b[1;33m)\u001b[0m\u001b[1;33m\u001b[0m\u001b[1;33m\u001b[0m\u001b[0m\n\u001b[0m",
      "\u001b[1;31mPermissionError\u001b[0m: [WinError 32] The process cannot access the file because it is being used by another process: 'myfile1.txt' -> 'myfile1.txt'"
     ]
    }
   ],
   "source": [
    "#rename() a file\n",
    "import os\n",
    "os.rename( \"myfile1.txt\", \"myfile1.txt\" )\n"
   ]
  },
  {
   "cell_type": "code",
   "execution_count": 10,
   "metadata": {},
   "outputs": [
    {
     "ename": "PermissionError",
     "evalue": "[WinError 32] The process cannot access the file because it is being used by another process: 'myfile1.txt'",
     "output_type": "error",
     "traceback": [
      "\u001b[1;31m---------------------------------------------------------------------------\u001b[0m",
      "\u001b[1;31mPermissionError\u001b[0m                           Traceback (most recent call last)",
      "\u001b[1;32m<ipython-input-10-d5da05a8464e>\u001b[0m in \u001b[0;36m<module>\u001b[1;34m\u001b[0m\n\u001b[0;32m      1\u001b[0m \u001b[1;31m#remove() a file\u001b[0m\u001b[1;33m\u001b[0m\u001b[1;33m\u001b[0m\u001b[1;33m\u001b[0m\u001b[0m\n\u001b[1;32m----> 2\u001b[1;33m \u001b[0mos\u001b[0m\u001b[1;33m.\u001b[0m\u001b[0mremove\u001b[0m\u001b[1;33m(\u001b[0m \u001b[1;34m\"myfile1.txt\"\u001b[0m \u001b[1;33m)\u001b[0m\u001b[1;33m\u001b[0m\u001b[1;33m\u001b[0m\u001b[0m\n\u001b[0m",
      "\u001b[1;31mPermissionError\u001b[0m: [WinError 32] The process cannot access the file because it is being used by another process: 'myfile1.txt'"
     ]
    }
   ],
   "source": [
    "#remove() a file\n",
    "os.remove( \"myfile1.txt\" )"
   ]
  },
  {
   "cell_type": "code",
   "execution_count": 11,
   "metadata": {},
   "outputs": [],
   "source": [
    "#Writing to a file. Create the file if doesn't exist\n",
    "Filehndl = open(\"myfile1.txt\", \"w+\")\n",
    "Filehndl.write( \"Python Processing Files\\nMay 2018!!\\n\")\n",
    "# Close opend file\n",
    "Filehndl.close()"
   ]
  },
  {
   "cell_type": "code",
   "execution_count": 114,
   "metadata": {},
   "outputs": [],
   "source": [
    "#Append to a file\n",
    "Filehndl = open(\"myFile2.txt\", \"a+\")\n",
    "Filehndl.write( \"Python Processing Files\\nMay 2018!!\\n\")\n",
    "# Close opend file\n",
    "Filehndl.close()"
   ]
  },
  {
   "cell_type": "code",
   "execution_count": 117,
   "metadata": {},
   "outputs": [
    {
     "name": "stdout",
     "output_type": "stream",
     "text": [
      "<_io.BufferedReader name='DS Stages.PNG'>\n"
     ]
    }
   ],
   "source": [
    "#Binary Files\n",
    "f1 = open(\"DS Stages.PNG\", \"rb\")\n",
    "f2=open(\"DS Image Copy.PNG\", \"wb\")\n",
    "print(f1) \n",
    "for line in f1:\n",
    "   f2.write(line)\n",
    "f2.close()\n",
    "f2.close()"
   ]
  },
  {
   "cell_type": "code",
   "execution_count": 119,
   "metadata": {},
   "outputs": [
    {
     "data": {
      "text/plain": [
       "'C:\\\\Users\\\\Mahe\\\\Downloads'"
      ]
     },
     "execution_count": 119,
     "metadata": {},
     "output_type": "execute_result"
    }
   ],
   "source": [
    "#Directories: Create, Remove\n",
    "import os\n",
    "os.mkdir(\"Data 1\") # create a directory\n",
    "os.mkdir(\"Data_2\")\n",
    "#os.chdir(\"Data_3\") # change directory\n",
    "os.getcwd() # Get the current working directory\n"
   ]
  },
  {
   "cell_type": "code",
   "execution_count": 120,
   "metadata": {},
   "outputs": [],
   "source": [
    "os.rmdir('Data_2') # remove a directory\n",
    "os.rmdir('Data 1') # remove a directory"
   ]
  },
  {
   "cell_type": "markdown",
   "metadata": {},
   "source": [
    "Regular Expressions REGEX"
   ]
  },
  {
   "cell_type": "code",
   "execution_count": 55,
   "metadata": {},
   "outputs": [
    {
     "name": "stdout",
     "output_type": "stream",
     "text": [
      "\n",
      "Using in to select lines // only print lines which has specific string \n",
      "From: zqian@umich.edu\n",
      "From: rjlowe@iupui.edu\n",
      "From: cwen@iupui.edu\n",
      "From: cwen@iupui.edu\n",
      "From: gsilver@umich.edu\n",
      "From: gsilver@umich.edu\n",
      "From: zqian@umich.edu\n",
      "From: gsilver@umich.edu\n",
      "From: wagnermr@iupui.edu\n",
      "From: zqian@umich.edu\n",
      "From: antranig@caret.cam.ac.uk\n",
      "From: gopal.ramasammycook@gmail.com\n",
      "From: david.horwitz@uct.ac.za\n",
      "From: david.horwitz@uct.ac.za\n",
      "From: david.horwitz@uct.ac.za\n",
      "From: david.horwitz@uct.ac.za\n",
      "From: stephen.marquard@uct.ac.za\n",
      "From: louis@media.berkeley.edu\n",
      "From: louis@media.berkeley.edu\n",
      "From: ray@media.berkeley.edu\n",
      "From: cwen@iupui.edu\n",
      "From: cwen@iupui.edu\n",
      "From: cwen@iupui.edu\n"
     ]
    }
   ],
   "source": [
    "print (\"\\nUsing in to select lines // only print lines which has specific string \")\n",
    "fhand = open(\"myfile1.txt\", 'r')\n",
    "for line in fhand:\n",
    "    line = line.rstrip()\n",
    "    print (line)"
   ]
  },
  {
   "cell_type": "code",
   "execution_count": 56,
   "metadata": {},
   "outputs": [
    {
     "name": "stdout",
     "output_type": "stream",
     "text": [
      "\n",
      "Searching Through a File\n",
      "\n",
      "From: zqian@umich.edu\n",
      "From: rjlowe@iupui.edu\n",
      "From: cwen@iupui.edu\n",
      "From: cwen@iupui.edu\n",
      "From: gsilver@umich.edu\n",
      "From: gsilver@umich.edu\n",
      "From: zqian@umich.edu\n",
      "From: gsilver@umich.edu\n",
      "From: wagnermr@iupui.edu\n",
      "From: zqian@umich.edu\n",
      "From: antranig@caret.cam.ac.uk\n",
      "From: gopal.ramasammycook@gmail.com\n",
      "From: david.horwitz@uct.ac.za\n",
      "From: david.horwitz@uct.ac.za\n",
      "From: david.horwitz@uct.ac.za\n",
      "From: david.horwitz@uct.ac.za\n",
      "From: stephen.marquard@uct.ac.za\n",
      "From: louis@media.berkeley.edu\n",
      "From: louis@media.berkeley.edu\n",
      "From: ray@media.berkeley.edu\n",
      "From: cwen@iupui.edu\n",
      "From: cwen@iupui.edu\n",
      "From: cwen@iupui.edu\n"
     ]
    }
   ],
   "source": [
    "#Extracting Lines Starting with a Specific Pattern\n",
    "print(\"\\nSearching Through a File\\n\")\n",
    "fhand = open('myfile1.txt')\n",
    "for line in fhand:\n",
    "    line = line.rstrip()\n",
    "    if line.startswith('From:') :\n",
    "        print (line)"
   ]
  },
  {
   "cell_type": "code",
   "execution_count": 58,
   "metadata": {},
   "outputs": [
    {
     "name": "stdout",
     "output_type": "stream",
     "text": [
      "\n",
      "Searching Through a File\n",
      "\n",
      "zqian@umich.edu\n",
      "rjlowe@iupui.edu\n",
      "cwen@iupui.edu\n",
      "cwen@iupui.edu\n",
      "gsilver@umich.edu\n",
      "gsilver@umich.edu\n",
      "zqian@umich.edu\n",
      "gsilver@umich.edu\n",
      "wagnermr@iupui.edu\n",
      "zqian@umich.edu\n",
      "antranig@caret.cam.ac.uk\n",
      "gopal.ramasammycook@gmail.com\n",
      "david.horwitz@uct.ac.za\n",
      "david.horwitz@uct.ac.za\n",
      "david.horwitz@uct.ac.za\n",
      "david.horwitz@uct.ac.za\n",
      "stephen.marquard@uct.ac.za\n",
      "louis@media.berkeley.edu\n",
      "louis@media.berkeley.edu\n",
      "ray@media.berkeley.edu\n",
      "cwen@iupui.edu\n",
      "cwen@iupui.edu\n",
      "cwen@iupui.edu\n"
     ]
    }
   ],
   "source": [
    "#Extracting e-mails without regular expressions\n",
    "print(\"\\nSearching Through a File\\n\") \n",
    "fhand = open('myfile1.txt')\n",
    "for line in fhand:\n",
    "    line = line.rstrip()\n",
    "    if line.startswith('From:') :\n",
    "        line = line.split()\n",
    "        print (line[1])"
   ]
  },
  {
   "cell_type": "markdown",
   "metadata": {},
   "source": [
    "The regular expression in Listing 4-9\n",
    "finds all the text starting with a capital F followed by any character\n",
    "repeated zero or more times and ending with a colon (:)."
   ]
  },
  {
   "cell_type": "code",
   "execution_count": 96,
   "metadata": {
    "scrolled": true
   },
   "outputs": [
    {
     "name": "stdout",
     "output_type": "stream",
     "text": [
      "\n",
      "Regular Expressions\n",
      "'^F.*:' \n",
      "\n",
      "['From:']\n",
      "['From:']\n",
      "['From:']\n",
      "['From:']\n",
      "['From:']\n",
      "['From:']\n",
      "['From:']\n",
      "['From:']\n",
      "['From:']\n",
      "['From:']\n",
      "['From:']\n",
      "['From:']\n",
      "['From:']\n",
      "['From:']\n",
      "['From:']\n",
      "['From:']\n",
      "['From:']\n",
      "['From:']\n",
      "['From:']\n",
      "['From:']\n",
      "['From:']\n",
      "['From:']\n",
      "['From:']\n"
     ]
    }
   ],
   "source": [
    "#4-9\n",
    "import re\n",
    "print (\"\\nRegular Expressions\\n'^F.*:' \\n\") \n",
    "hand = open('myfile1.txt')\n",
    "for line in hand:\n",
    "    line = line.rstrip()\n",
    "    y = re.findall('^F.*:',line)\n",
    "    print (y)"
   ]
  },
  {
   "cell_type": "code",
   "execution_count": 99,
   "metadata": {},
   "outputs": [
    {
     "name": "stdout",
     "output_type": "stream",
     "text": [
      "\n",
      " Matching and Extracting Data \n",
      "\n",
      "['2', '19', '42']\n"
     ]
    }
   ],
   "source": [
    "#Extracting Numerical Values and Specific Characters\n",
    "print (\"\\n Matching and Extracting Data \\n\")\n",
    "x = 'My 2 favorite numbers are 19 and 42'\n",
    "y = re.findall('[0-9]+',x)\n",
    "print (y)"
   ]
  },
  {
   "cell_type": "code",
   "execution_count": 73,
   "metadata": {},
   "outputs": [
    {
     "name": "stdout",
     "output_type": "stream",
     "text": [
      "['n', 's', 'n']\n"
     ]
    }
   ],
   "source": [
    "# find any of these 'AEsOUn' characters in string\n",
    "x = 'My 2 favorite numbers are 19 and 42'\n",
    "y = re.findall('[AEsOUn]+',x)\n",
    "print(y)"
   ]
  },
  {
   "cell_type": "code",
   "execution_count": 74,
   "metadata": {},
   "outputs": [
    {
     "name": "stdout",
     "output_type": "stream",
     "text": [
      "\n",
      "Greedy Matching \n",
      "\n",
      "['From: Using the :']\n"
     ]
    }
   ],
   "source": [
    "#Greedy and Nongreedy Matching\n",
    "print (\"\\nGreedy Matching \\n\")\n",
    "x = 'From: Using the : character'\n",
    "y = re.findall('^F.+:', x)\n",
    "print (y)"
   ]
  },
  {
   "cell_type": "code",
   "execution_count": 100,
   "metadata": {},
   "outputs": [
    {
     "name": "stdout",
     "output_type": "stream",
     "text": [
      "\n",
      "Non-Greedy Matching \n",
      "\n",
      "['From:']\n"
     ]
    }
   ],
   "source": [
    "#re.findall('^F.+?:', x) asks Python to retrieve\n",
    "#characters starting with an F and ending with the first occurrence of a delimiter,\n",
    "print (\"\\nNon-Greedy Matching \\n\")\n",
    "x = 'From: Using the : character'\n",
    "y = re.findall('^F.+?:', x)\n",
    "print (y)"
   ]
  },
  {
   "cell_type": "code",
   "execution_count": null,
   "metadata": {},
   "outputs": [],
   "source": []
  }
 ],
 "metadata": {
  "kernelspec": {
   "display_name": "Python 3",
   "language": "python",
   "name": "python3"
  },
  "language_info": {
   "codemirror_mode": {
    "name": "ipython",
    "version": 3
   },
   "file_extension": ".py",
   "mimetype": "text/x-python",
   "name": "python",
   "nbconvert_exporter": "python",
   "pygments_lexer": "ipython3",
   "version": "3.7.4"
  }
 },
 "nbformat": 4,
 "nbformat_minor": 5
}
